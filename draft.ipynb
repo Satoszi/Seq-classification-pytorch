{
 "cells": [
  {
   "cell_type": "code",
   "execution_count": 1,
   "id": "bf3d3a7b",
   "metadata": {},
   "outputs": [
    {
     "name": "stderr",
     "output_type": "stream",
     "text": [
      "C:\\Users\\mati\\anaconda3\\envs\\pytorch_2022\\lib\\site-packages\\tqdm\\auto.py:22: TqdmWarning: IProgress not found. Please update jupyter and ipywidgets. See https://ipywidgets.readthedocs.io/en/stable/user_install.html\n",
      "  from .autonotebook import tqdm as notebook_tqdm\n"
     ]
    }
   ],
   "source": [
    "import torch\n",
    "import torchvision  \n",
    "import torch.nn.functional as F  \n",
    "\n",
    "from torch import optim \n",
    "from torch import nn  \n",
    "from torch.utils.data import DataLoader \n",
    "\n",
    "from tqdm import tqdm \n",
    "import matplotlib.pyplot as plt\n",
    "import numpy as np\n",
    "import utils\n",
    "import nn_model\n",
    "import itertools\n",
    "\n",
    "import config\n",
    "from torchsummary import summary"
   ]
  },
  {
   "cell_type": "code",
   "execution_count": 2,
   "id": "b38b03b1",
   "metadata": {},
   "outputs": [
    {
     "name": "stdout",
     "output_type": "stream",
     "text": [
      "cpu\n"
     ]
    }
   ],
   "source": [
    "device = torch.device(\"cuda\" if torch.cuda.is_available() else \"cpu\")\n",
    "print(device)"
   ]
  },
  {
   "cell_type": "code",
   "execution_count": 3,
   "id": "1541ec24",
   "metadata": {},
   "outputs": [],
   "source": [
    "batch_size = 64\n",
    "input_size = 28*28\n",
    "lstm_hidden_size = 64\n",
    "learning_rate = 0.001\n",
    "num_epochs = 1\n",
    "num_lstm_layers = 2"
   ]
  },
  {
   "cell_type": "markdown",
   "id": "4c976def",
   "metadata": {},
   "source": [
    "## Load data"
   ]
  },
  {
   "cell_type": "code",
   "execution_count": 11,
   "id": "ee9be493",
   "metadata": {},
   "outputs": [],
   "source": [
    "custom_train_loader = utils.MnistSequences(weak_supervision_rate = 0.2)\n",
    "custom_test_loader = utils.MnistSequences(train=False)"
   ]
  },
  {
   "cell_type": "code",
   "execution_count": 12,
   "id": "a7ec00b1",
   "metadata": {},
   "outputs": [],
   "source": [
    "custom_train_loader.reset()\n",
    "custom_test_loader.reset()\n",
    "\n",
    "train_loader = DataLoader(dataset=custom_train_loader, batch_size=config.BATCH_SIZE, shuffle=True)\n",
    "test_loader = DataLoader(dataset=custom_test_loader, batch_size=config.BATCH_SIZE, shuffle=True)"
   ]
  },
  {
   "cell_type": "markdown",
   "id": "a231b76a",
   "metadata": {},
   "source": [
    "## Visualize data"
   ]
  },
  {
   "cell_type": "code",
   "execution_count": 13,
   "id": "3320f294",
   "metadata": {},
   "outputs": [
    {
     "name": "stdout",
     "output_type": "stream",
     "text": [
      "label: tensor(1)\n"
     ]
    },
    {
     "data": {
      "image/png": "[encoded data removed]",
      "text/plain": [
       "<Figure size 720x720 with 5 Axes>"
      ]
     },
     "metadata": {
      "needs_background": "light"
     },
     "output_type": "display_data"
    }
   ],
   "source": [
    "(x, y) = next(iter(train_loader))\n",
    "\n",
    "columns = len(x[0])\n",
    "rows = 1\n",
    "fig = plt.figure(figsize=(10, 10))\n",
    "\n",
    "for idx in range(1*columns):\n",
    "    \n",
    "    image = x[0][idx]\n",
    "    fig.add_subplot(rows, columns, idx+1)\n",
    "    plt.imshow(image)\n",
    "    \n",
    "print(\"label:\", y[0])"
   ]
  },
  {
   "cell_type": "markdown",
   "id": "eb26ae37",
   "metadata": {},
   "source": [
    "## Model"
   ]
  },
  {
   "cell_type": "code",
   "execution_count": 14,
   "id": "181114e6",
   "metadata": {},
   "outputs": [],
   "source": [
    "model = nn_model.LSTM_Model(\n",
    "    config.INPUT_SIZE, \n",
    "    config.LSTM_HIDDEN_SIZE, \n",
    "    config.NUM_LSTM_LAYERS, \n",
    "    device\n",
    ").to(device)\n",
    "\n",
    "criterion = nn.CrossEntropyLoss()\n",
    "optimizer = optim.Adam(model.parameters(), lr=config.LEARNING_RATE)"
   ]
  },
  {
   "cell_type": "code",
   "execution_count": 15,
   "id": "10a021e1",
   "metadata": {},
   "outputs": [
    {
     "name": "stdout",
     "output_type": "stream",
     "text": [
      "=================================================================\n",
      "Layer (type:depth-idx)                   Param #\n",
      "=================================================================\n",
      "├─Conv2d: 1-1                            160\n",
      "├─Conv2d: 1-2                            4,640\n",
      "├─Conv2d: 1-3                            18,496\n",
      "├─MaxPool2d: 1-4                         --\n",
      "├─Linear: 1-5                            73,856\n",
      "├─LSTM: 1-6                              82,944\n",
      "├─Linear: 1-7                            130\n",
      "=================================================================\n",
      "Total params: 180,226\n",
      "Trainable params: 180,226\n",
      "Non-trainable params: 0\n",
      "=================================================================\n"
     ]
    },
    {
     "data": {
      "text/plain": [
       "=================================================================\n",
       "Layer (type:depth-idx)                   Param #\n",
       "=================================================================\n",
       "├─Conv2d: 1-1                            160\n",
       "├─Conv2d: 1-2                            4,640\n",
       "├─Conv2d: 1-3                            18,496\n",
       "├─MaxPool2d: 1-4                         --\n",
       "├─Linear: 1-5                            73,856\n",
       "├─LSTM: 1-6                              82,944\n",
       "├─Linear: 1-7                            130\n",
       "=================================================================\n",
       "Total params: 180,226\n",
       "Trainable params: 180,226\n",
       "Non-trainable params: 0\n",
       "================================================================="
      ]
     },
     "execution_count": 15,
     "metadata": {},
     "output_type": "execute_result"
    }
   ],
   "source": [
    "summary(model)"
   ]
  },
  {
   "cell_type": "code",
   "execution_count": 16,
   "id": "3fcd2d0b",
   "metadata": {},
   "outputs": [],
   "source": [
    "def validate(data_loader, model, batches_number):\n",
    "    N = 0\n",
    "    num_correct = 0\n",
    "    \n",
    "    # Set model to evaluate state\n",
    "    model.eval()\n",
    "\n",
    "    with torch.no_grad():\n",
    "        for x_data, y_data in itertools.islice(data_loader, 0, batches_number):\n",
    "            \n",
    "            x_data = x_data.to(device=device).squeeze(1)\n",
    "            y_data = y_data.to(device=device)\n",
    "\n",
    "            predictions = model(x_data)\n",
    "            _, predictions = predictions.max(1)\n",
    "            num_correct += (predictions == y_data).sum()\n",
    "            N += predictions.size(0)\n",
    "\n",
    "    return float(num_correct / N)"
   ]
  },
  {
   "cell_type": "code",
   "execution_count": null,
   "id": "e83e993e",
   "metadata": {},
   "outputs": [
    {
     "name": "stderr",
     "output_type": "stream",
     "text": [
      "  0%|                                                                                | 1/938 [00:08<2:08:10,  8.21s/it]"
     ]
    },
    {
     "name": "stdout",
     "output_type": "stream",
     "text": [
      "Val acc: 0.635937511920929 Train acc: 0.5625\n"
     ]
    },
    {
     "name": "stderr",
     "output_type": "stream",
     "text": [
      "  5%|████▍                                                                            | 51/938 [00:29<36:08,  2.44s/it]"
     ]
    },
    {
     "name": "stdout",
     "output_type": "stream",
     "text": [
      "Val acc: 0.6117187738418579 Train acc: 0.5570312738418579\n"
     ]
    },
    {
     "name": "stderr",
     "output_type": "stream",
     "text": [
      " 11%|████████▌                                                                       | 101/938 [00:50<34:18,  2.46s/it]"
     ]
    },
    {
     "name": "stdout",
     "output_type": "stream",
     "text": [
      "Val acc: 0.609375 Train acc: 0.578906238079071\n"
     ]
    },
    {
     "name": "stderr",
     "output_type": "stream",
     "text": [
      " 16%|████████████▉                                                                   | 151/938 [01:12<34:13,  2.61s/it]"
     ]
    },
    {
     "name": "stdout",
     "output_type": "stream",
     "text": [
      "Val acc: 0.632031261920929 Train acc: 0.6000000238418579\n"
     ]
    },
    {
     "name": "stderr",
     "output_type": "stream",
     "text": [
      " 21%|█████████████████▏                                                              | 201/938 [01:33<27:43,  2.26s/it]"
     ]
    },
    {
     "name": "stdout",
     "output_type": "stream",
     "text": [
      "Val acc: 0.5640624761581421 Train acc: 0.5367187261581421\n"
     ]
    },
    {
     "name": "stderr",
     "output_type": "stream",
     "text": [
      " 27%|█████████████████████▍                                                          | 252/938 [01:54<21:35,  1.89s/it]"
     ]
    },
    {
     "name": "stdout",
     "output_type": "stream",
     "text": [
      "Val acc: 0.9390624761581421 Train acc: 0.7640625238418579\n"
     ]
    },
    {
     "name": "stderr",
     "output_type": "stream",
     "text": [
      " 32%|█████████████████████████▊                                                      | 302/938 [02:15<19:40,  1.86s/it]"
     ]
    },
    {
     "name": "stdout",
     "output_type": "stream",
     "text": [
      "Val acc: 0.957812488079071 Train acc: 0.7710937261581421\n"
     ]
    },
    {
     "name": "stderr",
     "output_type": "stream",
     "text": [
      " 37%|█████████████████████████████▉                                                  | 351/938 [02:35<22:55,  2.34s/it]"
     ]
    },
    {
     "name": "stdout",
     "output_type": "stream",
     "text": [
      "Val acc: 0.985156238079071 Train acc: 0.782031238079071\n"
     ]
    },
    {
     "name": "stderr",
     "output_type": "stream",
     "text": [
      " 43%|██████████████████████████████████▏                                             | 401/938 [02:57<24:43,  2.76s/it]"
     ]
    },
    {
     "name": "stdout",
     "output_type": "stream",
     "text": [
      "Val acc: 0.9234374761581421 Train acc: 0.764843761920929\n"
     ]
    },
    {
     "name": "stderr",
     "output_type": "stream",
     "text": [
      " 48%|██████████████████████████████████████▍                                         | 451/938 [03:18<20:55,  2.58s/it]"
     ]
    },
    {
     "name": "stdout",
     "output_type": "stream",
     "text": [
      "Val acc: 0.967968761920929 Train acc: 0.7906249761581421\n"
     ]
    },
    {
     "name": "stderr",
     "output_type": "stream",
     "text": [
      " 53%|██████████████████████████████████████████▋                                     | 501/938 [03:38<17:52,  2.45s/it]"
     ]
    },
    {
     "name": "stdout",
     "output_type": "stream",
     "text": [
      "Val acc: 0.9781249761581421 Train acc: 0.7835937738418579\n"
     ]
    },
    {
     "name": "stderr",
     "output_type": "stream",
     "text": [
      " 59%|███████████████████████████████████████████████                                 | 552/938 [04:01<12:20,  1.92s/it]"
     ]
    },
    {
     "name": "stdout",
     "output_type": "stream",
     "text": [
      "Val acc: 0.973437488079071 Train acc: 0.7953125238418579\n"
     ]
    },
    {
     "name": "stderr",
     "output_type": "stream",
     "text": [
      " 64%|███████████████████████████████████████████████████▎                            | 602/938 [04:22<09:44,  1.74s/it]"
     ]
    },
    {
     "name": "stdout",
     "output_type": "stream",
     "text": [
      "Val acc: 0.983593761920929 Train acc: 0.774218738079071\n"
     ]
    },
    {
     "name": "stderr",
     "output_type": "stream",
     "text": [
      " 70%|███████████████████████████████████████████████████████▌                        | 652/938 [04:43<08:39,  1.82s/it]"
     ]
    },
    {
     "name": "stdout",
     "output_type": "stream",
     "text": [
      "Val acc: 0.983593761920929 Train acc: 0.7749999761581421\n"
     ]
    },
    {
     "name": "stderr",
     "output_type": "stream",
     "text": [
      " 73%|██████████████████████████████████████████████████████████▎                     | 684/938 [04:51<01:11,  3.54it/s]"
     ]
    }
   ],
   "source": [
    "history_1 = []\n",
    "for epoch in range(config.NUM_EPOCHS):\n",
    "    for batch_idx, (x_data, y_data) in enumerate(tqdm(train_loader)):\n",
    "\n",
    "        x_data = x_data.to(device=device).squeeze(1)\n",
    "        y_data = y_data.to(device=device)\n",
    "\n",
    "        # forward\n",
    "        outputs = model(x_data)\n",
    "        loss = criterion(outputs, y_data)\n",
    "\n",
    "        # backward\n",
    "        optimizer.zero_grad()\n",
    "        loss.backward()\n",
    "        \n",
    "        optimizer.step()\n",
    "        \n",
    "        if batch_idx % 50 == 0:\n",
    "            validation_acc = validate(test_loader, model, 20)\n",
    "            train_acc = validate(train_loader, model, 20)\n",
    "            history_1.append((validation_acc,train_acc))\n",
    "            print(\"Val acc:\",validation_acc, \"Train acc:\", train_acc)\n",
    "            \n",
    "            model.train()\n",
    "        \n"
   ]
  },
  {
   "cell_type": "code",
   "execution_count": 22,
   "id": "e7b7ae7e",
   "metadata": {},
   "outputs": [],
   "source": [
    "history_temp = history"
   ]
  },
  {
   "cell_type": "code",
   "execution_count": 28,
   "id": "19821ba5",
   "metadata": {},
   "outputs": [],
   "source": [
    "train_history = [i[0] for i in history]\n",
    "validation_history = [i[1] for i in history]"
   ]
  },
  {
   "cell_type": "code",
   "execution_count": null,
   "id": "c2afe949",
   "metadata": {},
   "outputs": [],
   "source": []
  },
  {
   "cell_type": "code",
   "execution_count": 31,
   "id": "d6854d2f",
   "metadata": {},
   "outputs": [
    {
     "data": {
      "image/png": "[encoded data removed]",
      "text/plain": [
       "<Figure size 2160x1152 with 1 Axes>"
      ]
     },
     "metadata": {
      "needs_background": "light"
     },
     "output_type": "display_data"
    }
   ],
   "source": [
    "plt.figure(1, figsize = (30,16)) \n",
    "    \n",
    "plt.subplot(221)  \n",
    "plt.plot(train_history)  \n",
    "plt.plot(validation_history)  \n",
    "plt.title('model accuracy')  \n",
    "plt.ylabel('accuracy')  \n",
    "plt.xlabel('epoch')  \n",
    "plt.legend(['train', 'valid']) \n",
    "\n",
    "plt.show()"
   ]
  },
  {
   "cell_type": "code",
   "execution_count": null,
   "id": "98b4a9d9",
   "metadata": {},
   "outputs": [],
   "source": []
  },
  {
   "cell_type": "markdown",
   "id": "02ad0287",
   "metadata": {},
   "source": [
    "## Test"
   ]
  },
  {
   "cell_type": "code",
   "execution_count": null,
   "id": "6bd2a02e",
   "metadata": {},
   "outputs": [],
   "source": [
    "def check_accuracy(data_loader, model):\n",
    "    \n",
    "    N = 0\n",
    "    num_correct = 0\n",
    "    \n",
    "    # Set model to evaluate state\n",
    "    model.eval()\n",
    "\n",
    "    with torch.no_grad():\n",
    "        for x_data, y_data in data_loader:\n",
    "            \n",
    "            x_data = x_data.to(device=device).squeeze(1)\n",
    "            y_data = y_data.to(device=device)\n",
    "\n",
    "            predictions = model(x_data)\n",
    "            _, predictions = predictions.max(1)\n",
    "            num_correct += (predictions == y_data).sum()\n",
    "            N += predictions.size(0)\n",
    "\n",
    "            print(\"Accuracy\", 100. * num_correct / N)\n",
    "\n",
    "\n",
    "check_accuracy(test_loader, model)"
   ]
  },
  {
   "cell_type": "code",
   "execution_count": 30,
   "id": "f4f53294",
   "metadata": {},
   "outputs": [
    {
     "name": "stdout",
     "output_type": "stream",
     "text": [
      "L tensor([0.9000, 0.9000, 0.1000, 0.9000, 0.9000, 0.9000, 0.1000, 0.9000, 0.1000,\n",
      "        0.1000, 0.9000, 0.1000, 0.9000, 0.9000, 0.9000, 0.9000, 0.1000, 0.9000,\n",
      "        0.1000, 0.9000, 0.9000, 0.1000, 0.9000, 0.1000, 0.1000, 0.9000, 0.1000,\n",
      "        0.9000, 0.9000, 0.9000, 0.1000, 0.9000, 0.9000, 0.9000, 0.9000, 0.9000,\n",
      "        0.1000, 0.9000, 0.9000, 0.9000, 0.1000, 0.9000, 0.9000, 0.9000, 0.9000,\n",
      "        0.1000, 0.9000, 0.1000, 0.9000, 0.1000, 0.1000, 0.9000, 0.9000, 0.9000,\n",
      "        0.9000, 0.9000, 0.1000, 0.1000, 0.1000, 0.9000, 0.9000, 0.1000, 0.9000,\n",
      "        0.9000], dtype=torch.float64)\n",
      "seq_len: 8\n"
     ]
    }
   ],
   "source": [
    "\n",
    "counter = 0\n",
    "sequ = None\n",
    "for x, y in test_loader:\n",
    "    \n",
    "    sequ = x\n",
    "    print(\"L\", y)\n",
    "    \n",
    "    counter +=1\n",
    "    if counter >= 1: break\n",
    "\n",
    "seq_len = len(sequ[0])\n",
    "print(\"seq_len:\", seq_len)"
   ]
  },
  {
   "cell_type": "code",
   "execution_count": 32,
   "id": "285b1543",
   "metadata": {},
   "outputs": [
    {
     "data": {
      "text/plain": [
       "tensor([0.6052, 0.6052, 0.6052, 0.6052, 0.6052, 0.6052, 0.6052, 0.6052, 0.6052,\n",
       "        0.6052, 0.6052, 0.6052, 0.6052, 0.6052, 0.6052, 0.6052, 0.6052, 0.6052,\n",
       "        0.6052, 0.6052, 0.6052, 0.6052, 0.6052, 0.6052, 0.6052, 0.6052, 0.6052,\n",
       "        0.6052, 0.6052, 0.6052, 0.6052, 0.6052, 0.6052, 0.6052, 0.6052, 0.6052,\n",
       "        0.6052, 0.6052, 0.6052, 0.6052, 0.6052, 0.6052, 0.6052, 0.6052, 0.6052,\n",
       "        0.6052, 0.6052, 0.6052, 0.6052, 0.6052, 0.6052, 0.6052, 0.6052, 0.6052,\n",
       "        0.6052, 0.6052, 0.6052, 0.6052, 0.6052, 0.6052, 0.6052, 0.6052, 0.6052,\n",
       "        0.6052], grad_fn=<ViewBackward0>)"
      ]
     },
     "execution_count": 32,
     "metadata": {},
     "output_type": "execute_result"
    }
   ],
   "source": [
    "predicted = model(sequ.to(device=device).squeeze(1))\n",
    "_, predicted = predicted.max(1)\n",
    "predicted"
   ]
  },
  {
   "cell_type": "code",
   "execution_count": null,
   "id": "33199362",
   "metadata": {},
   "outputs": [],
   "source": []
  }
 ],
 "metadata": {
  "kernelspec": {
   "display_name": "pytorch_2022_jupyter",
   "language": "python",
   "name": "pytorch_2022_jupyter"
  },
  "language_info": {
   "codemirror_mode": {
    "name": "ipython",
    "version": 3
   },
   "file_extension": ".py",
   "mimetype": "text/x-python",
   "name": "python",
   "nbconvert_exporter": "python",
   "pygments_lexer": "ipython3",
   "version": "3.9.7"
  }
 },
 "nbformat": 4,
 "nbformat_minor": 5
}
