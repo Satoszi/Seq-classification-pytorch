{
 "cells": [
  {
   "cell_type": "code",
   "execution_count": 1,
   "id": "bf3d3a7b",
   "metadata": {},
   "outputs": [
    {
     "name": "stderr",
     "output_type": "stream",
     "text": [
      "C:\\Users\\mati\\anaconda3\\envs\\pytorch_2022\\lib\\site-packages\\tqdm\\auto.py:22: TqdmWarning: IProgress not found. Please update jupyter and ipywidgets. See https://ipywidgets.readthedocs.io/en/stable/user_install.html\n",
      "  from .autonotebook import tqdm as notebook_tqdm\n"
     ]
    }
   ],
   "source": [
    "import torch\n",
    "import torchvision  \n",
    "import torch.nn.functional as F  \n",
    "\n",
    "from torch import optim \n",
    "from torch import nn  \n",
    "from torch.utils.data import DataLoader \n",
    "\n",
    "from tqdm import tqdm \n",
    "import matplotlib.pyplot as plt\n",
    "import numpy as np\n",
    "import utils\n",
    "\n",
    "from torchsummary import summary"
   ]
  },
  {
   "cell_type": "code",
   "execution_count": 3,
   "id": "b38b03b1",
   "metadata": {},
   "outputs": [
    {
     "name": "stdout",
     "output_type": "stream",
     "text": [
      "cpu\n"
     ]
    }
   ],
   "source": [
    "device = torch.device(\"cuda\" if torch.cuda.is_available() else \"cpu\")\n",
    "print(device)"
   ]
  },
  {
   "cell_type": "code",
   "execution_count": 34,
   "id": "1541ec24",
   "metadata": {},
   "outputs": [],
   "source": [
    "batch_size = 64\n",
    "input_size = 28*28\n",
    "lstm_hidden_size = 64\n",
    "num_classes = 2\n",
    "learning_rate = 0.001\n",
    "num_epochs = 1\n",
    "num_lstm_layers = 2"
   ]
  },
  {
   "cell_type": "markdown",
   "id": "4c976def",
   "metadata": {},
   "source": [
    "## Load data"
   ]
  },
  {
   "cell_type": "code",
   "execution_count": 47,
   "id": "ee9be493",
   "metadata": {},
   "outputs": [],
   "source": [
    "custom_train_loader = utils.MnistSequences()\n",
    "custom_test_loader = utils.MnistSequences(train=False)"
   ]
  },
  {
   "cell_type": "code",
   "execution_count": 48,
   "id": "a7ec00b1",
   "metadata": {},
   "outputs": [],
   "source": [
    "custom_train_loader.reset()\n",
    "custom_test_loader.reset()\n",
    "\n",
    "train_loader = DataLoader(dataset=custom_train_loader, batch_size=64, shuffle=True)\n",
    "test_loader = DataLoader(dataset=custom_test_loader, batch_size=64, shuffle=True)"
   ]
  },
  {
   "cell_type": "markdown",
   "id": "a231b76a",
   "metadata": {},
   "source": [
    "## Visualize data"
   ]
  },
  {
   "cell_type": "code",
   "execution_count": 7,
   "id": "3320f294",
   "metadata": {},
   "outputs": [
    {
     "name": "stdout",
     "output_type": "stream",
     "text": [
      "label: tensor(1)\n"
     ]
    },
    {
     "data": {
      "image/png": "[encoded data removed]",
      "text/plain": [
       "<Figure size 720x720 with 8 Axes>"
      ]
     },
     "metadata": {
      "needs_background": "light"
     },
     "output_type": "display_data"
    }
   ],
   "source": [
    "(x, y) = next(iter(train_loader))\n",
    "\n",
    "columns = len(x[0])\n",
    "rows = 1\n",
    "fig = plt.figure(figsize=(10, 10))\n",
    "\n",
    "for idx in range(1*columns):\n",
    "    \n",
    "    image = x[0][idx]\n",
    "    fig.add_subplot(rows, columns, idx+1)\n",
    "    plt.imshow(image)\n",
    "    \n",
    "print(\"label:\", y[0])"
   ]
  },
  {
   "cell_type": "markdown",
   "id": "eb26ae37",
   "metadata": {},
   "source": [
    "## Model"
   ]
  },
  {
   "cell_type": "code",
   "execution_count": 44,
   "id": "217eec93",
   "metadata": {},
   "outputs": [],
   "source": [
    "# Recurrent neural network with LSTM (many-to-one)\n",
    "class LSTM_Model(nn.Module):\n",
    "    def __init__(self, input_size, lstm_hidden_size, num_lstm_layers, num_classes):\n",
    "        super(LSTM_Model, self).__init__()\n",
    "        self.lstm_hidden_size = lstm_hidden_size\n",
    "        self.num_lstm_layers = num_lstm_layers\n",
    "        \n",
    "        self.conv1 = nn.Conv2d(1,16,3)\n",
    "        self.conv2 = nn.Conv2d(16,32,3)\n",
    "        self.conv3 = nn.Conv2d(32,64,3)\n",
    "        self.pool = nn.MaxPool2d(2,2)\n",
    "        \n",
    "        self.fc1 = nn.Linear(64*3*3, 128)\n",
    "        \n",
    "        self.lstm = nn.LSTM(128, lstm_hidden_size, num_lstm_layers, batch_first=True)\n",
    "        self.fc2 = nn.Linear(lstm_hidden_size, num_classes)\n",
    "\n",
    "    def forward(self, x):\n",
    "        \n",
    "        # Declare c0 and h0 hidden states for start lstm sequence\n",
    "        c0 = torch.zeros(self.num_lstm_layers, x.size(0), self.lstm_hidden_size).to(device)\n",
    "        h0 = torch.zeros(self.num_lstm_layers, x.size(0), self.lstm_hidden_size).to(device)\n",
    "        \n",
    "        batch_size, timesteps, H, W = x.size()\n",
    "        x = x.view(batch_size*timesteps,1,H,W)\n",
    "        \n",
    "        x = self.pool(F.relu(self.conv1(x)))\n",
    "        x = self.pool(F.relu(self.conv2(x)))\n",
    "        x = F.relu(self.conv3(x))\n",
    "        \n",
    "        x = x.view(batch_size*timesteps,-1)\n",
    "        \n",
    "        x = F.relu(self.fc1(x))\n",
    "        \n",
    "        x = x.view(batch_size,timesteps,-1)\n",
    "\n",
    "        x, _ = self.lstm(x, (h0, c0)) \n",
    "\n",
    "        x = x[:, -1, :]\n",
    "        x = x.reshape(x.shape[0], -1)\n",
    "\n",
    "        x = self.fc2(x)\n",
    "        return x\n",
    "\n"
   ]
  },
  {
   "cell_type": "code",
   "execution_count": 45,
   "id": "181114e6",
   "metadata": {},
   "outputs": [],
   "source": [
    "model = LSTM_Model(input_size, lstm_hidden_size, num_lstm_layers, num_classes).to(device)\n",
    "criterion = nn.CrossEntropyLoss()\n",
    "optimizer = optim.Adam(model.parameters(), lr=learning_rate)"
   ]
  },
  {
   "cell_type": "code",
   "execution_count": 46,
   "id": "10a021e1",
   "metadata": {},
   "outputs": [
    {
     "name": "stdout",
     "output_type": "stream",
     "text": [
      "=================================================================\n",
      "Layer (type:depth-idx)                   Param #\n",
      "=================================================================\n",
      "├─Conv2d: 1-1                            160\n",
      "├─Conv2d: 1-2                            4,640\n",
      "├─Conv2d: 1-3                            18,496\n",
      "├─MaxPool2d: 1-4                         --\n",
      "├─Linear: 1-5                            73,856\n",
      "├─LSTM: 1-6                              82,944\n",
      "├─Linear: 1-7                            130\n",
      "=================================================================\n",
      "Total params: 180,226\n",
      "Trainable params: 180,226\n",
      "Non-trainable params: 0\n",
      "=================================================================\n"
     ]
    },
    {
     "data": {
      "text/plain": [
       "=================================================================\n",
       "Layer (type:depth-idx)                   Param #\n",
       "=================================================================\n",
       "├─Conv2d: 1-1                            160\n",
       "├─Conv2d: 1-2                            4,640\n",
       "├─Conv2d: 1-3                            18,496\n",
       "├─MaxPool2d: 1-4                         --\n",
       "├─Linear: 1-5                            73,856\n",
       "├─LSTM: 1-6                              82,944\n",
       "├─Linear: 1-7                            130\n",
       "=================================================================\n",
       "Total params: 180,226\n",
       "Trainable params: 180,226\n",
       "Non-trainable params: 0\n",
       "================================================================="
      ]
     },
     "execution_count": 46,
     "metadata": {},
     "output_type": "execute_result"
    }
   ],
   "source": [
    "summary(model)"
   ]
  },
  {
   "cell_type": "code",
   "execution_count": null,
   "id": "e83e993e",
   "metadata": {},
   "outputs": [],
   "source": [
    "for epoch in range(num_epochs):\n",
    "    for batch_idx, (x_data, y_data) in enumerate(tqdm(train_loader)):\n",
    "\n",
    "        x_data = x_data.to(device=device).squeeze(1)\n",
    "        y_data = y_data.to(device=device)\n",
    "\n",
    "        # forward\n",
    "        outputs = model(x_data)\n",
    "        loss = criterion(outputs, y_data)\n",
    "\n",
    "        # backward\n",
    "        optimizer.zero_grad()\n",
    "        loss.backward()\n",
    "\n",
    "        optimizer.step()\n"
   ]
  },
  {
   "cell_type": "markdown",
   "id": "02ad0287",
   "metadata": {},
   "source": [
    "## Test"
   ]
  },
  {
   "cell_type": "code",
   "execution_count": 43,
   "id": "6bd2a02e",
   "metadata": {},
   "outputs": [
    {
     "name": "stdout",
     "output_type": "stream",
     "text": [
      "Accuracy tensor(100.)\n",
      "Accuracy tensor(98.4375)\n",
      "Accuracy tensor(98.9583)\n",
      "Accuracy tensor(98.8281)\n",
      "Accuracy tensor(99.0625)\n",
      "Accuracy tensor(98.6979)\n",
      "Accuracy tensor(98.8839)\n",
      "Accuracy tensor(99.0234)\n",
      "Accuracy tensor(98.6111)\n",
      "Accuracy tensor(98.7500)\n",
      "Accuracy tensor(98.8636)\n",
      "Accuracy tensor(98.9583)\n",
      "Accuracy tensor(99.0385)\n",
      "Accuracy tensor(98.8839)\n",
      "Accuracy tensor(98.8542)\n",
      "Accuracy tensor(98.8281)\n",
      "Accuracy tensor(98.8971)\n",
      "Accuracy tensor(98.8715)\n",
      "Accuracy tensor(98.8487)\n",
      "Accuracy tensor(98.9062)\n",
      "Accuracy tensor(98.9583)\n",
      "Accuracy tensor(99.0057)\n",
      "Accuracy tensor(99.0489)\n",
      "Accuracy tensor(99.0234)\n",
      "Accuracy tensor(99.)\n",
      "Accuracy tensor(99.0385)\n",
      "Accuracy tensor(99.0741)\n",
      "Accuracy tensor(99.1071)\n",
      "Accuracy tensor(99.0841)\n",
      "Accuracy tensor(99.0625)\n",
      "Accuracy tensor(99.0927)\n",
      "Accuracy tensor(99.0234)\n",
      "Accuracy tensor(99.0530)\n",
      "Accuracy tensor(99.0349)\n",
      "Accuracy tensor(99.0179)\n",
      "Accuracy tensor(99.0017)\n",
      "Accuracy tensor(98.9865)\n",
      "Accuracy tensor(99.0132)\n",
      "Accuracy tensor(98.9183)\n",
      "Accuracy tensor(98.9062)\n",
      "Accuracy tensor(98.9329)\n",
      "Accuracy tensor(98.9211)\n",
      "Accuracy tensor(98.9099)\n",
      "Accuracy tensor(98.8991)\n",
      "Accuracy tensor(98.8889)\n",
      "Accuracy tensor(98.8791)\n",
      "Accuracy tensor(98.8697)\n",
      "Accuracy tensor(98.8607)\n",
      "Accuracy tensor(98.8202)\n",
      "Accuracy tensor(98.8438)\n",
      "Accuracy tensor(98.8358)\n",
      "Accuracy tensor(98.8582)\n",
      "Accuracy tensor(98.8797)\n",
      "Accuracy tensor(98.8715)\n",
      "Accuracy tensor(98.8636)\n",
      "Accuracy tensor(98.8839)\n",
      "Accuracy tensor(98.8761)\n",
      "Accuracy tensor(98.8955)\n",
      "Accuracy tensor(98.9142)\n",
      "Accuracy tensor(98.9323)\n",
      "Accuracy tensor(98.8986)\n",
      "Accuracy tensor(98.9163)\n",
      "Accuracy tensor(98.9335)\n",
      "Accuracy tensor(98.9258)\n",
      "Accuracy tensor(98.9183)\n",
      "Accuracy tensor(98.9347)\n",
      "Accuracy tensor(98.9272)\n",
      "Accuracy tensor(98.9430)\n",
      "Accuracy tensor(98.8904)\n",
      "Accuracy tensor(98.9062)\n",
      "Accuracy tensor(98.9217)\n",
      "Accuracy tensor(98.9366)\n",
      "Accuracy tensor(98.9512)\n",
      "Accuracy tensor(98.9654)\n",
      "Accuracy tensor(98.9583)\n",
      "Accuracy tensor(98.9720)\n",
      "Accuracy tensor(98.9854)\n",
      "Accuracy tensor(98.9984)\n",
      "Accuracy tensor(98.9913)\n",
      "Accuracy tensor(98.9844)\n",
      "Accuracy tensor(98.9776)\n",
      "Accuracy tensor(98.9710)\n",
      "Accuracy tensor(98.9270)\n",
      "Accuracy tensor(98.9397)\n",
      "Accuracy tensor(98.9338)\n",
      "Accuracy tensor(98.9462)\n",
      "Accuracy tensor(98.9583)\n",
      "Accuracy tensor(98.9524)\n",
      "Accuracy tensor(98.9466)\n",
      "Accuracy tensor(98.9410)\n",
      "Accuracy tensor(98.9526)\n",
      "Accuracy tensor(98.9640)\n",
      "Accuracy tensor(98.9583)\n",
      "Accuracy tensor(98.9528)\n",
      "Accuracy tensor(98.9638)\n",
      "Accuracy tensor(98.9746)\n",
      "Accuracy tensor(98.9691)\n",
      "Accuracy tensor(98.9796)\n",
      "Accuracy tensor(98.9899)\n",
      "Accuracy tensor(98.9531)\n",
      "Accuracy tensor(98.9635)\n",
      "Accuracy tensor(98.9583)\n",
      "Accuracy tensor(98.9684)\n",
      "Accuracy tensor(98.9633)\n",
      "Accuracy tensor(98.9286)\n",
      "Accuracy tensor(98.9387)\n",
      "Accuracy tensor(98.9340)\n",
      "Accuracy tensor(98.9294)\n",
      "Accuracy tensor(98.9392)\n",
      "Accuracy tensor(98.9347)\n",
      "Accuracy tensor(98.9161)\n",
      "Accuracy tensor(98.9118)\n",
      "Accuracy tensor(98.9076)\n",
      "Accuracy tensor(98.9035)\n",
      "Accuracy tensor(98.8995)\n",
      "Accuracy tensor(98.9089)\n",
      "Accuracy tensor(98.9183)\n",
      "Accuracy tensor(98.9010)\n",
      "Accuracy tensor(98.8971)\n",
      "Accuracy tensor(98.9062)\n",
      "Accuracy tensor(98.9024)\n",
      "Accuracy tensor(98.8986)\n",
      "Accuracy tensor(98.9075)\n",
      "Accuracy tensor(98.9037)\n",
      "Accuracy tensor(98.9125)\n",
      "Accuracy tensor(98.9211)\n",
      "Accuracy tensor(98.9296)\n",
      "Accuracy tensor(98.9258)\n",
      "Accuracy tensor(98.9341)\n",
      "Accuracy tensor(98.9303)\n",
      "Accuracy tensor(98.9146)\n",
      "Accuracy tensor(98.9110)\n",
      "Accuracy tensor(98.9192)\n",
      "Accuracy tensor(98.9156)\n",
      "Accuracy tensor(98.9120)\n",
      "Accuracy tensor(98.9085)\n",
      "Accuracy tensor(98.9165)\n",
      "Accuracy tensor(98.9130)\n",
      "Accuracy tensor(98.8984)\n",
      "Accuracy tensor(98.9062)\n",
      "Accuracy tensor(98.8918)\n",
      "Accuracy tensor(98.8997)\n",
      "Accuracy tensor(98.8964)\n",
      "Accuracy tensor(98.9041)\n",
      "Accuracy tensor(98.9009)\n",
      "Accuracy tensor(98.9084)\n",
      "Accuracy tensor(98.9158)\n",
      "Accuracy tensor(98.9020)\n",
      "Accuracy tensor(98.8989)\n",
      "Accuracy tensor(98.9062)\n",
      "Accuracy tensor(98.8928)\n",
      "Accuracy tensor(98.9001)\n",
      "Accuracy tensor(98.9073)\n",
      "Accuracy tensor(98.9144)\n",
      "Accuracy tensor(98.9113)\n",
      "Accuracy tensor(98.9183)\n",
      "Accuracy tensor(98.9200)\n"
     ]
    }
   ],
   "source": [
    "def check_accuracy(data_loader, model):\n",
    "    \n",
    "    N = 0\n",
    "    num_correct = 0\n",
    "    \n",
    "    # Set model to evaluate state\n",
    "    model.eval()\n",
    "\n",
    "    with torch.no_grad():\n",
    "        for x_data, y_data in data_loader:\n",
    "            \n",
    "            x_data = x_data.to(device=device).squeeze(1)\n",
    "            y_data = y_data.to(device=device)\n",
    "\n",
    "            predictions = model(x_data)\n",
    "            _, predictions = predictions.max(1)\n",
    "            num_correct += (predictions == y_data).sum()\n",
    "            N += predictions.size(0)\n",
    "\n",
    "            print(\"Accuracy\", 100. * num_correct / N)\n",
    "\n",
    "\n",
    "check_accuracy(test_loader, model)"
   ]
  },
  {
   "cell_type": "code",
   "execution_count": null,
   "id": "f4f53294",
   "metadata": {},
   "outputs": [],
   "source": []
  },
  {
   "cell_type": "code",
   "execution_count": null,
   "id": "285b1543",
   "metadata": {},
   "outputs": [],
   "source": []
  },
  {
   "cell_type": "code",
   "execution_count": null,
   "id": "33199362",
   "metadata": {},
   "outputs": [],
   "source": []
  }
 ],
 "metadata": {
  "kernelspec": {
   "display_name": "pytorch_2022_jupyter",
   "language": "python",
   "name": "pytorch_2022_jupyter"
  },
  "language_info": {
   "codemirror_mode": {
    "name": "ipython",
    "version": 3
   },
   "file_extension": ".py",
   "mimetype": "text/x-python",
   "name": "python",
   "nbconvert_exporter": "python",
   "pygments_lexer": "ipython3",
   "version": "3.9.7"
  }
 },
 "nbformat": 4,
 "nbformat_minor": 5
}
